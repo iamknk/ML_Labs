{
 "cells": [
  {
   "cell_type": "markdown",
   "metadata": {},
   "source": [
    "# 1 Logistic Regression\n",
    "In this part of the exercise, you will build a logistic regression model to\n",
    "predict whether a student gets admitted into a university.\n",
    "\n",
    "Suppose that you are the administrator of a university department and\n",
    "you want to determine each applicant's chance of admission based on their\n",
    "results on two exams. You have historical data from previous applicants\n",
    "that you can use as a training set for logistic regression. For each training\n",
    "example, you have the applicant's scores on two exams and the admissions\n",
    "decision.\n",
    "\n",
    "Your task is to build a classication model that estimates an applicant's\n",
    "probability of admission based the scores from those two exams. \n",
    "\n",
    "## 1.1 Visualization\n",
    "We will start by visualizing the data. The positive and negative examples are shown in different colors/markers."
   ]
  },
  {
   "cell_type": "code",
   "execution_count": 83,
   "metadata": {},
   "outputs": [
    {
     "data": {
      "image/png": "[encoded data removed]",
      "text/plain": [
       "<Figure size 432x288 with 1 Axes>"
      ]
     },
     "metadata": {
      "needs_background": "light"
     },
     "output_type": "display_data"
    }
   ],
   "source": [
    "import numpy as np\n",
    "import matplotlib.pyplot as plt\n",
    "from scipy.optimize import minimize\n",
    "\n",
    "data = np.loadtxt('ex2data1_Lab_4.txt', delimiter=',')\n",
    "\n",
    "m = len(data[:,0])\n",
    "n = len(data[0,:])\n",
    "X = np.ones(shape=(m,n))\n",
    "X[:,1:3] = data[:,0:2]\n",
    "y = data[:,2]\n",
    "\n",
    "plt.scatter(X[np.where(y==1),1], X[np.where(y==1),2], marker = '+', c = 'b')\n",
    "plt.scatter(X[np.where(y==0),1], X[np.where(y==0),2], marker = 'o', c = 'r')\n",
    "plt.xlabel('exam score 1')\n",
    "plt.ylabel('exam score 2')\n",
    "plt.show()"
   ]
  },
  {
   "cell_type": "markdown",
   "metadata": {},
   "source": [
    "## 1.2 Implementation\n",
    "### 1.2.1 Implement sigmoid function\n",
    "Before you start with the actual cost function, recall that the logistic regres-\n",
    "sion hypothesis is defined as:\n",
    "\\begin{equation}\n",
    "h(x) = g(\\theta^T x)\n",
    "\\end{equation}\n",
    "where function $g$ is the sigmoid function. The sigmoid function is defined as\n",
    "\\begin{equation}\n",
    "g(z) = \\frac{1}{1+e^{-z}}\n",
    "\\end{equation}\n",
    "Your first step is to implement this function below so it can be\n",
    "called by the rest of your program."
   ]
  },
  {
   "cell_type": "code",
   "execution_count": 84,
   "metadata": {},
   "outputs": [],
   "source": [
    "##TODO Implement the sigmoid function\n",
    "def sigmoid(z):\n",
    "    return 1 / ( 1+ np.exp(-z) )"
   ]
  },
  {
   "cell_type": "markdown",
   "metadata": {},
   "source": [
    "Visualize the implemented sigmoid function"
   ]
  },
  {
   "cell_type": "code",
   "execution_count": 85,
   "metadata": {},
   "outputs": [
    {
     "data": {
      "image/png": "[encoded data removed]",
      "text/plain": [
       "<Figure size 432x288 with 1 Axes>"
      ]
     },
     "metadata": {
      "needs_background": "light"
     },
     "output_type": "display_data"
    }
   ],
   "source": [
    "plt.plot(np.arange(-10,10,.1) ,sigmoid(np.arange(-10,10,.1)))\n",
    "plt.show()"
   ]
  },
  {
   "cell_type": "markdown",
   "metadata": {},
   "source": [
    "### 1.2.2 Implement Cost function and Gradient\n",
    "Now you will implement the cost function and gradient for logistic regression. Complete the code in compute_cost and compute_gradient to return the cost and gradient.\n",
    "\n",
    "Recall that the cost function in logistic regression is\n",
    "\\begin{equation}\n",
    "J(\\theta) = - \\frac{1}{m} \\sum_{i=1}^m \\large[ y^{(i)}\\ \\log (h_\\theta (x^{(i)})) + (1 - y^{(i)})\\ \\log (1 - h_\\theta(x^{(i)})) \\large]\n",
    "\\end{equation}\n",
    "and the gradient of the cost is a vector of the same length as $\\theta$ where the $j^{th}$\n",
    "element (for $j = 0,1,\\cdots,n$) is defined as follows:\n",
    "\\begin{equation}\n",
    "\\frac{\\partial J(\\theta)}{\\partial\\theta_j}=\\frac{1}{m} \\sum_{i=1}^m (h_\\theta(x^{(i)}) - y^{(i)}) x_j^{(i)}\n",
    "\\end{equation}"
   ]
  },
  {
   "cell_type": "code",
   "execution_count": 86,
   "metadata": {},
   "outputs": [],
   "source": [
    "def compute_cost(theta, X, y):\n",
    "    h = sigmoid(X.dot(theta)).flatten()\n",
    "    c = y*np.log(h) + (1-y)*np.log(1-h)\n",
    "    return -c.sum()/len(y)\n",
    "\n",
    "def compute_gradient(theta, X, y):\n",
    "    #TODO implement the compute_gradient \n",
    "    m = len(y)\n",
    "    h = sigmoid(X.dot(theta)).flatten()\n",
    "    x0 = (h - y).dot(X[:,0]).sum()\n",
    "    x1 = (h - y).dot(X[:,1]).sum()\n",
    "    x2 =(h - y).dot(X[:,2]).sum()\n",
    "    x0 = (1/m)*x0.sum()\n",
    "    x1 = (1/m)*x1.sum()\n",
    "    x2 = (1/m)*x2.sum()\n",
    "    return np.array([x0,x1,x2])"
   ]
  },
  {
   "cell_type": "markdown",
   "metadata": {},
   "source": [
    "### 1.2.3 Minimizing cost function\n",
    "In the previous lab, you found the optimal parameters of a linear regression model by implementing gradent descent. You wrote a cost function\n",
    "and calculated its gradient, then took a gradient descent step accordingly.\n",
    "\n",
    "In this lab, we will use a scipy built-in function called [minimize](https://docs.scipy.org/doc/scipy/reference/generated/scipy.optimize.minimize.html#scipy.optimize.minimize).  It will find the best parameters theta for the logistic regression cost function given a fixed dataset (of X and Y values).\n",
    "\n",
    "The parameters of the function are:\n",
    "* function that computes cost\n",
    "* initial theta\n",
    "* arguments tuple\n",
    "* gradient of the cost function\n",
    "\n",
    "Once, minimize has finished finding the optimal $\\theta$, you should see that the cost is about 0.203."
   ]
  },
  {
   "cell_type": "code",
   "execution_count": 87,
   "metadata": {},
   "outputs": [
    {
     "name": "stderr",
     "output_type": "stream",
     "text": [
      "/anaconda3/lib/python3.7/site-packages/ipykernel_launcher.py:3: RuntimeWarning: divide by zero encountered in log\n",
      "  This is separate from the ipykernel package so we can avoid doing imports until\n",
      "/anaconda3/lib/python3.7/site-packages/ipykernel_launcher.py:3: RuntimeWarning: invalid value encountered in multiply\n",
      "  This is separate from the ipykernel package so we can avoid doing imports until\n"
     ]
    },
    {
     "data": {
      "text/plain": [
       "0.20349770158944375"
      ]
     },
     "execution_count": 87,
     "metadata": {},
     "output_type": "execute_result"
    }
   ],
   "source": [
    "theta = np.array([0.,0.,0.])\n",
    "res = minimize(fun=compute_cost, x0=theta, args=(X,y), jac=compute_gradient, method='BFGS')\n",
    "compute_cost(res.x, X, y)"
   ]
  },
  {
   "cell_type": "markdown",
   "metadata": {},
   "source": [
    "### 1.2.4 Plotting Decision boundary"
   ]
  },
  {
   "cell_type": "code",
   "execution_count": 88,
   "metadata": {},
   "outputs": [],
   "source": [
    "def plotDecisionBoundary(theta, X, y):\n",
    "    # Only need 2 points to define a line, so choose two endpoints\n",
    "    plot_x = np.array([np.min(X[:,1])-2,  np.max(X[:,1])+2])\n",
    "    \n",
    "    # Calculate the decision boundary line\n",
    "    plot_y = (-1./theta[2])*(theta[1]*plot_x + theta[0])\n",
    "    \n",
    "    plt.scatter(X[np.where(y==1),1], X[np.where(y==1),2], marker = '+', c = 'b')\n",
    "    plt.scatter(X[np.where(y==0),1], X[np.where(y==0),2], marker = 'o', c = 'r')\n",
    "    plt.plot(plot_x, plot_y, c='y')\n",
    "    plt.show()"
   ]
  },
  {
   "cell_type": "code",
   "execution_count": 89,
   "metadata": {},
   "outputs": [
    {
     "data": {
      "image/png": "[encoded data removed]",
      "text/plain": [
       "<Figure size 432x288 with 1 Axes>"
      ]
     },
     "metadata": {
      "needs_background": "light"
     },
     "output_type": "display_data"
    }
   ],
   "source": [
    "plotDecisionBoundary(res.x, X, y)"
   ]
  },
  {
   "cell_type": "markdown",
   "metadata": {},
   "source": [
    "### 1.2.5 Evaluating Logistic Regression\n",
    "After learning the parameters, you can use the model to predict whether a\n",
    "particular student will be admitted. For a student with an Exam 1 score\n",
    "of 45 and an Exam 2 score of 85, you should expect to see an admission\n",
    "probability of 0.776."
   ]
  },
  {
   "cell_type": "code",
   "execution_count": 90,
   "metadata": {},
   "outputs": [],
   "source": [
    "def predict(theta, x):\n",
    "    h = sigmoid(x.dot(theta)).flatten()\n",
    "    print(h)"
   ]
  },
  {
   "cell_type": "code",
   "execution_count": 91,
   "metadata": {},
   "outputs": [
    {
     "name": "stdout",
     "output_type": "stream",
     "text": [
      "[0.77629072]\n"
     ]
    }
   ],
   "source": [
    "predict(res.x, np.array([1,45,85]))"
   ]
  },
  {
   "cell_type": "markdown",
   "metadata": {},
   "source": [
    "# 2 Regularized Logistic Regression\n",
    "In this part of the exercise, you will implement regularized logistic regression\n",
    "to predict whether microchips from a fabrication plant passes quality assur-\n",
    "ance (QA). During QA, each microchip goes through various tests to ensure\n",
    "it is functioning correctly.\n",
    "Suppose you are the product manager of the factory and you have the\n",
    "test results for some microchips on two different tests. From these two tests,\n",
    "you would like to determine whether the microchips should be accepted or\n",
    "rejected. To help you make the decision, you have a dataset of test results\n",
    "on past microchips, from which you can build a logistic regression model."
   ]
  },
  {
   "cell_type": "markdown",
   "metadata": {},
   "source": [
    "## 2.1 Visualizing the data\n",
    "Start by visualizing the data. The figure below will shows that our dataset cannot be separated into positive and negative examples by a straight-line through the plot. Therefore, a straight-forward application of logistic regression will not perform well on this dataset\n",
    "since logistic regression will only be able to find a linear decision boundary."
   ]
  },
  {
   "cell_type": "code",
   "execution_count": 92,
   "metadata": {},
   "outputs": [
    {
     "data": {
      "image/png": "[encoded data removed]",
      "text/plain": [
       "<Figure size 432x288 with 1 Axes>"
      ]
     },
     "metadata": {
      "needs_background": "light"
     },
     "output_type": "display_data"
    }
   ],
   "source": [
    "data = np.loadtxt('ex2data2_Lab_4.txt', delimiter=',')\n",
    "m = len(data[:,0])\n",
    "n = len(data[0,:])\n",
    "X = np.ones(shape=(m,n))\n",
    "X[:,1:3] = data[:,0:2]\n",
    "y = data[:,2]\n",
    "\n",
    "plt.scatter(X[np.where(y==1),1], X[np.where(y==1),2], marker = '+', c = 'b')\n",
    "plt.scatter(X[np.where(y==0),1], X[np.where(y==0),2], marker = 'o', c = 'r')\n",
    "plt.xlabel('microchip test 1')\n",
    "plt.ylabel('microchip test 2')\n",
    "plt.show()"
   ]
  },
  {
   "cell_type": "markdown",
   "metadata": {},
   "source": [
    "## 2.2 Feature mapping\n",
    "One way to to the data better is to create more features from each data\n",
    "point. In the provided function mapFeature, we will map the features into\n",
    "all polynomial terms of $x_1$ and $x_2$ up to the sixth power. The mapFeature(x) should return the following vector.\n",
    "\\begin{bmatrix}\n",
    "1 \\\\x_1  \\\\x_2  \\\\ x_1^2 \\\\ x_1 x_2 \\\\ x_2^2 \\\\ x_1^3 \\\\ \\vdots \\\\x_1 x_2^5 \\\\x_2^6\n",
    "\\end{bmatrix}\n",
    "\n",
    "As a result of this mapping, our vector of two features (the scores on\n",
    "two QA tests) has been transformed into a 28-dimensional vector. A logistic\n",
    "regression classifier trained on this higher-dimension feature vector will have\n",
    "a more complex decision boundary and will appear nonlinear when drawn in\n",
    "our 2-dimensional plot.\n",
    "While the feature mapping allows us to build a more expressive classifier,\n",
    "it also more susceptible to overfitting. In the next parts of the exercise, you\n",
    "will implement regularized logistic regression to fit the data and also see for\n",
    "yourself how regularization can help combat the overfitting problem."
   ]
  },
  {
   "cell_type": "code",
   "execution_count": 93,
   "metadata": {},
   "outputs": [],
   "source": [
    "def mapFeature(x1,x2):\n",
    "    degree = 6\n",
    "    m = len(x1)\n",
    "    XX = np.ones(shape=(m,1))\n",
    "    for i in range(1, degree + 1):\n",
    "        for j in range(i + 1):\n",
    "            r = (x1 ** (i - j)) * (x2 ** j)\n",
    "            XX = np.append(XX,r[:,np.newaxis], axis=1)\n",
    "            \n",
    "    return XX"
   ]
  },
  {
   "cell_type": "markdown",
   "metadata": {},
   "source": [
    "## 2.3 Regularized Cost function and Gradient\n",
    "Now you will implement code to compute the cost function and gradient for\n",
    "regularized logistic regression. \n",
    "\n",
    "Recall that the regularized cost function in logistic regression is\n",
    "\\begin{equation}\n",
    "J(\\theta) = - \\frac{1}{m} \\sum_{i=1}^m \\large[ y^{(i)}\\ \\log (h_\\theta (x^{(i)})) + (1 - y^{(i)})\\ \\log (1 - h_\\theta(x^{(i)}))\\large] + \\frac{\\lambda}{2m}\\sum_{j=1}^n \\theta_j^2\n",
    "\\end{equation}\n",
    "\n",
    "The gradient for $j=0$ will remain unchanged but for $j \\ge 1$ it is:\n",
    "\\begin{equation}\n",
    "\\frac{\\partial J(\\theta)}{\\partial\\theta_j}=\\large[ \\frac{1}{m} \\sum_{i=1}^m (h_\\theta(x^{(i)}) - y^{(i)}) x_j^{(i)}\\large] + \\frac{\\lambda}{m}\\theta_j  \\,\\,\\, for \\, j\\ge1\n",
    "\\end{equation}"
   ]
  },
  {
   "cell_type": "code",
   "execution_count": 94,
   "metadata": {},
   "outputs": [],
   "source": [
    "def compute_cost_reg(theta, X, y, l):\n",
    "    # TODO implmenent the compute_cost_reg function    \n",
    "    h = sigmoid(X.dot(theta)).flatten()\n",
    "    c = y*np.log(h) + (1-y)*np.log(1-h)\n",
    "    j = -c.sum()/len(y)\n",
    "    return j + (l/(2*len(y)))*np.sum(theta**2)\n",
    "\n",
    "    \n",
    "\n",
    "def compute_gradient_reg(theta, X, y, l):\n",
    "    h = sigmoid(X.dot(theta)).flatten()\n",
    "    g = np.zeros(len(theta))\n",
    "    \n",
    "    g[0] = np.sum((h-y))/len(y)\n",
    "    for i in np.arange(1,X.shape[1]):\n",
    "        g[i] = np.sum((h-y)*X[:,i])/len(y) + l*theta[i]/len(y)\n",
    "    return g"
   ]
  },
  {
   "cell_type": "markdown",
   "metadata": {},
   "source": [
    "## 2.4 Minimizing Cost Function\n",
    "As before we are going to use scipy minimize to minize the regularized cost function"
   ]
  },
  {
   "cell_type": "code",
   "execution_count": 95,
   "metadata": {},
   "outputs": [
    {
     "data": {
      "text/plain": [
       "0.5801555614632643"
      ]
     },
     "execution_count": 95,
     "metadata": {},
     "output_type": "execute_result"
    }
   ],
   "source": [
    "XX = mapFeature(X[:,1],X[:,2])\n",
    "theta = np.zeros(shape=(1,XX.shape[1]))\n",
    "l = 2 # lambda\n",
    "res = minimize(fun=compute_cost_reg, x0=theta, args=(XX,y,l), jac=compute_gradient_reg, method='BFGS')\n",
    "compute_cost_reg(res.x, XX, y,l)"
   ]
  },
  {
   "cell_type": "markdown",
   "metadata": {},
   "source": [
    "## 2.5 Plotting the decision boundary\n",
    "To help you visualize the model learned by this classifier, we have pro-\n",
    "vided the function plotDecisionBoundary_nonlinear which plots the (non-linear)\n",
    "decision boundary that separates the positive and negative examples. In\n",
    "plotDecisionBoundary_nonlinear, we plot the non-linear decision boundary by com-\n",
    "puting the classifier's predictions on an evenly spaced grid and then and drew\n",
    "a contour plot of where the predictions change from y = 0 to y = 1.\n"
   ]
  },
  {
   "cell_type": "code",
   "execution_count": 96,
   "metadata": {},
   "outputs": [],
   "source": [
    "def plotDecisionBoundary(theta, X, y, l):\n",
    "    u = np.linspace(-1, 1.5, 50)\n",
    "    v = np.linspace(-1, 1.5, 50)\n",
    "    z = np.zeros(shape=(len(u), len(v)))\n",
    "    for i in range(len(u)):\n",
    "        for j in range(len(v)):\n",
    "            z[i, j] = (mapFeature(np.array([u[i]]), np.array([v[j]])).flatten().dot(theta.flatten()))\n",
    "\n",
    "    z = z.T\n",
    "    plt.contour(u, v, z, 0)\n",
    "    plt.scatter(X[np.where(y==1),1], X[np.where(y==1),2], marker = '+', c = 'b')\n",
    "    plt.scatter(X[np.where(y==0),1], X[np.where(y==0),2], marker = 'o', c = 'r')\n",
    "    plt.xlabel('microchip test 1')\n",
    "    plt.ylabel('microchip test 2')\n",
    "    plt.title('lambda = %f' % l)\n",
    "    plt.legend(['y = 1', 'y = 0', 'Decision boundary'])\n",
    "    plt.show()"
   ]
  },
  {
   "cell_type": "code",
   "execution_count": 97,
   "metadata": {},
   "outputs": [
    {
     "data": {
      "image/png": "[encoded data removed]",
      "text/plain": [
       "<Figure size 432x288 with 1 Axes>"
      ]
     },
     "metadata": {
      "needs_background": "light"
     },
     "output_type": "display_data"
    }
   ],
   "source": [
    "plotDecisionBoundary(res.x, X, y, 1)"
   ]
  },
  {
   "cell_type": "markdown",
   "metadata": {},
   "source": [
    "## 2.6 Effect of Regularization\n",
    "As you vary $\\lambda$ from 0 to 2, see the effect of regularization on the decision boundary."
   ]
  },
  {
   "cell_type": "code",
   "execution_count": 107,
   "metadata": {},
   "outputs": [
    {
     "name": "stderr",
     "output_type": "stream",
     "text": [
      "/anaconda3/lib/python3.7/site-packages/ipykernel_launcher.py:4: RuntimeWarning: divide by zero encountered in log\n",
      "  after removing the cwd from sys.path.\n",
      "/anaconda3/lib/python3.7/site-packages/ipykernel_launcher.py:4: RuntimeWarning: invalid value encountered in multiply\n",
      "  after removing the cwd from sys.path.\n",
      "/anaconda3/lib/python3.7/site-packages/ipykernel_launcher.py:4: RuntimeWarning: divide by zero encountered in log\n",
      "  after removing the cwd from sys.path.\n",
      "/anaconda3/lib/python3.7/site-packages/ipykernel_launcher.py:4: RuntimeWarning: invalid value encountered in multiply\n",
      "  after removing the cwd from sys.path.\n"
     ]
    },
    {
     "data": {
      "image/png": "[encoded data removed]",
      "text/plain": [
       "<Figure size 432x288 with 1 Axes>"
      ]
     },
     "metadata": {
      "needs_background": "light"
     },
     "output_type": "display_data"
    }
   ],
   "source": [
    "theta = np.zeros(shape=(1,XX.shape[1]))\n",
    "l = -1 # lambda\n",
    "res = minimize(fun=compute_cost_reg, x0=theta, args=(XX,y,l), jac=compute_gradient_reg, method='BFGS')\n",
    "plotDecisionBoundary(res.x, X, y, l)"
   ]
  },
  {
   "cell_type": "markdown",
   "metadata": {},
   "source": [
    "### Question\n",
    "What is the effect on the decision boundary as you vary the $\\lambda$ parameter?\n",
    "\n",
    "### Answer\n",
    "As lambda value is increased the decsion boundary gets widen and get more inaccurate, they are underfit. 0.1 is giving the best fit. Negative values are also giving inaccurate results, they are overfit."
   ]
  },
  {
   "cell_type": "code",
   "execution_count": null,
   "metadata": {},
   "outputs": [],
   "source": []
  },
  {
   "cell_type": "code",
   "execution_count": null,
   "metadata": {},
   "outputs": [],
   "source": []
  }
 ],
 "metadata": {
  "anaconda-cloud": {},
  "kernelspec": {
   "display_name": "Python 3",
   "language": "python",
   "name": "python3"
  },
  "language_info": {
   "codemirror_mode": {
    "name": "ipython",
    "version": 3
   },
   "file_extension": ".py",
   "mimetype": "text/x-python",
   "name": "python",
   "nbconvert_exporter": "python",
   "pygments_lexer": "ipython3",
   "version": "3.7.1"
  }
 },
 "nbformat": 4,
 "nbformat_minor": 1
}
